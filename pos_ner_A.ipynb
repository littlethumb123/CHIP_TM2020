{
 "cells": [
  {
   "cell_type": "markdown",
   "metadata": {
    "collapsed": true,
    "pycharm": {
     "name": "#%% md\n"
    }
   },
   "source": [
    "### POS tagging and NER\n",
    "\n",
    "REMEMBER TO TAKE:\n",
    "1. remember to format words \n",
    "2. add reference in a correct format\n",
    "\n",
    "In this section, we will cover the following contents:\n",
    "\n",
    "* Goal\n",
    "    - learn about POS tagging basics and constituency/dependency relation\n",
    "    - use NLTK to automatically pos-tag words and dependency relations\n",
    "    - use POS tags as idenfity key phrases (noun phrases, verb phrases)\n",
    "    - use NLTK to perform named entity recognition\n",
    "    - Some other tools available for POS tagging and name entity recognition\n"
   ]
  },
  {
   "cell_type": "markdown",
   "source": [
    "#### Part of Speech Tagging Basics\n",
    "Part of Speech (POS) Tagging is one of the most fundamental tasks in NLP. It aims to identify the grammatical function each word plays in a sentence, such as noun, verb, adjective, etc.  \n",
    "For example, we want to parse the following sentence.  \n",
    "*The field of health IT is diverse, rapidly changing, and covers numerous areas of scholarship* -- CHIP website\n",
    "\n",
    "|Word|POS tags|Meaning|Word|POS tags|Meaning|\n",
    "|------|------|------|------|------|------|\n",
    "|The|DT|Determiner|changing|VBG|Verb, gerund or present participle|\n",
    "|field|NN|Noun, singular or mass|and|CC|Coordinating conjunction|\n",
    "|of|IN|Preposition or subordinating conjunction|covers|VBZ|Verb, 3rd person singular present|\n",
    "|health|NN|Noun, singular or mass|numerous|JJ|Adjective|\n",
    "|IT|NNP|Proper noun, singular|areas|NNS|Noun, plural| \n",
    "|is|VBZ|Verb, 3rd person singular present|of|IN|Preposition or subordinating conjunction\n",
    "|diverse|JJ|Adjective|scholarship|NN|Noun, singular or mass|\n",
    "|rapidly|RB|Adverb|\n",
    "\n",
    "It looks cool but why we need POS tagging? We already have information about words from a text using tokenization and why we still need the information about grammatical constructs? POS tagging in fact helps us with many tasks, such as\n",
    "\n",
    "1) Word sense disambiguition\n",
    "A word can have multiple senses. For example, \"I like playing video games\" and \"Peter looks like his grandfather\", the \"like\" in two sentences is used as a verb and preposition, respectively. Using POS tags, we can easily idenitfy such difference, rather than infering it from its meaning which is often more computationally complex.  \n",
    "\n",
    "2) Identify key components in a text\n",
    "Noun Phrase is a key components to prepresent either subject or object in a document and thus indicate informative content in texts. Another example we can think about is the intensive use of adjectives and adverb in sentiment analysis, which indicates sentence’s polarity, i.e., positive, neutral and negative . The  POS tag can help use identify such syntactic structures easily.\n",
    "\n",
    "In the following, we will take a taste of parsing a text with NLTK and complete the following tasks\n",
    "* Tag each word with syntactic categories\n",
    "* Extract noun, verb and prepositional phrases\n",
    "* Parse sentence to explore its dependency relations among words\n"
   ],
   "metadata": {
    "collapsed": false,
    "pycharm": {
     "name": "#%% md\n"
    }
   }
  },
  {
   "cell_type": "code",
   "execution_count": 1,
   "outputs": [
    {
     "name": "stdout",
     "text": [
      "The pos tags of the given text: [('Health', 'NNP'), ('informatics', 'NNS'), ('is', 'VBZ'), ('information', 'NN'), ('engineering', 'NN'), ('applied', 'VBN'), ('to', 'TO'), ('the', 'DT'), ('field', 'NN'), ('of', 'IN'), ('health', 'NN'), ('care', 'NN'), (',', ','), ('essentially', 'RB'), ('the', 'DT'), ('management', 'NN'), ('and', 'CC'), ('use', 'NN'), ('of', 'IN'), ('patient', 'NN'), ('health', 'NN'), ('care', 'NN'), ('information', 'NN')]\n",
      "The parse result is drawn here\n",
      "The extracted noun phrases are ['Health informatics', 'information engineering', 'health care', 'patient health care information']\n"
     ],
     "output_type": "stream"
    }
   ],
   "source": [
    "import nltk\n",
    "from nltk import word_tokenize, pos_tag, RegexpParser\n",
    "from nltk.parse import CoreNLPParser\n",
    "from IPython.display import display\n",
    "from Util.pos_ner_helper import getNP\n",
    "\n",
    "TEXT_SAMPLE = \"\"\" Health informatics is information engineering applied to the field of health care, \n",
    "                essentially the management and use of patient health care information \"\"\"\n",
    "\n",
    "\n",
    "# Tokenize the text\n",
    "text_tokens = word_tokenize(TEXT_SAMPLE)\n",
    "\n",
    "# Obtain tags\n",
    "tags = pos_tag(text_tokens)   # 1\n",
    "print(\"The pos tags of the given text: {}\".format(tags))\n",
    "\n",
    "# Noun phrase regex pattern:            #2\n",
    "np_phrase = r\"\"\"\n",
    "            NP: {<DT>?<JJ>+<NN.*>}    \n",
    "                {<NN.*>{2,}}    \n",
    "            \"\"\"\n",
    "# RegexpParser parses the tags and visualize the grammatical structure\n",
    "parser = RegexpParser(np_phrase)      #3\n",
    "parser_res = parser.parse(tags)                   #4\n",
    "print(\"The parse result is drawn here\")\n",
    "parser_res.draw()   \n",
    "\n",
    "# Collect noun phrase from the parsing results\n",
    "NP_list = getNP(parser_res)\n",
    "print(\"The extracted noun phrases are {}\".format(NP_list))"
   ],
   "metadata": {
    "collapsed": false,
    "pycharm": {
     "name": "#%%\n",
     "is_executing": false
    }
   }
  },
  {
   "cell_type": "markdown",
   "source": [
    "#### Constituency and Dependency relation\n",
    "A text can be analyzed at various level (e.g., phrase, sentence). \n",
    "A sentence-level interpretation requires the analysis of lexical relationship among words, or ***dependency relation***.\n",
    "\n",
    "When we look at a relationship, we tends to care about who is more dominant versus subordinate. The same case for analyzing the word relations in a sentence. We call a part ***clausal relations*** that plays a central role and organizes other words (e.g., Noun phrase, or verb) and call the remaining words ***modifier*** that are dependent on the head, e.g., modify, complement meanings. "
   ],
   "metadata": {
    "collapsed": false,
    "pycharm": {
     "name": "#%% md\n"
    }
   }
  },
  {
   "cell_type": "code",
   "execution_count": 2,
   "outputs": [],
   "source": [
    "# Code in C&D relationship\n",
    "\n"
   ],
   "metadata": {
    "collapsed": false,
    "pycharm": {
     "name": "#%%\n",
     "is_executing": false
    }
   }
  },
  {
   "cell_type": "markdown",
   "source": [
    "### Name entity recognition\n",
    "In the previous section, we introduce the POS tagging and played with it using NLTK. We also learn about the basics in Constituency and Dependency relation\n",
    "\n",
    "In this section, we will introduce an important application of POS tagging, Name entity recognition (NER). \n",
    "The name entities refer to a particular type of objects, such as organization, person, location and so on. \n",
    "See examples in this table \n",
    "\n",
    "|NE Type|Examples|\n",
    "|------|------|\n",
    "|ORGANIZATION|Georgia-Pacific Corp., WHO|\n",
    "|PERSON|Eddy Bonte, President Obama|\n",
    "|LOCATION|Murray River, Mount Everest|\n",
    "|DATE|June, 2008-06-29|\n",
    "|TIME|two fifty a m, 1:30 p.m.|\n",
    "|MONEY|175 million Canadian Dollars, GBP 10.40|\n",
    "|PERCENT|twenty pct, 18.75 %|\n",
    "|FACILITY|Washington Monument, Stonehenge|\n",
    "|GPE|South East Asia, Midlothian|\n",
    "source: https://www.nltk.org/book/ch07.html\n",
    "\n",
    "See here for code examples"
   ],
   "metadata": {
    "collapsed": false
   }
  },
  {
   "cell_type": "code",
   "execution_count": 2,
   "outputs": [],
   "source": [
    "# Code for NER\n",
    "\n"
   ],
   "metadata": {
    "collapsed": false,
    "pycharm": {
     "name": "#%%\n",
     "is_executing": false
    }
   }
  }
 ],
 "metadata": {
  "kernelspec": {
   "display_name": "Python 3",
   "language": "python",
   "name": "python3"
  },
  "language_info": {
   "codemirror_mode": {
    "name": "ipython",
    "version": 2
   },
   "file_extension": ".py",
   "mimetype": "text/x-python",
   "name": "python",
   "nbconvert_exporter": "python",
   "pygments_lexer": "ipython2",
   "version": "2.7.6"
  },
  "pycharm": {
   "stem_cell": {
    "cell_type": "raw",
    "source": [],
    "metadata": {
     "collapsed": false
    }
   }
  }
 },
 "nbformat": 4,
 "nbformat_minor": 0
}